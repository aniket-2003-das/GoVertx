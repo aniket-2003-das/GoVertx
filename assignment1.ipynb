{
 "cells": [
  {
   "cell_type": "code",
   "execution_count": 71,
   "metadata": {},
   "outputs": [],
   "source": [
    "# ! pip install gemini_api\n",
    "# ! pip install dotenv\n",
    "# ! pip install google-generativeai\n",
    "# ! pip install google-cloud-aiplatform\n",
    "# ! pip install --upgrade grpcio\n",
    "import numpy as np"
   ]
  },
  {
   "cell_type": "code",
   "execution_count": 72,
   "metadata": {},
   "outputs": [],
   "source": [
    "# Realistic dataset\n",
    "founders = [\n",
    "    {\"name\": \"TechTrend Innovations\", \"industry\": \"tech\", \"stage\": \"seed\", \"funding_required\": 750000, \"traction\": \"15,000 MAU\", \"business_model\": \"SaaS\"},\n",
    "    {\"name\": \"HealthSync Solutions\", \"industry\": \"healthcare\", \"stage\": \"series A\", \"funding_required\": 3000000, \"traction\": \"75,000 MAU\", \"business_model\": \"marketplace\"},\n",
    "    {\"name\": \"PaySwift Fintech\", \"industry\": \"fintech\", \"stage\": \"pre-seed\", \"funding_required\": 200000, \"traction\": \"2,500 MAU\", \"business_model\": \"subscription\"},\n",
    "    {\"name\": \"EduLearn Platform\", \"industry\": \"edtech\", \"stage\": \"seed\", \"funding_required\": 600000, \"traction\": \"20,000 MAU\", \"business_model\": \"SaaS\"},\n",
    "    {\"name\": \"GreenEnergy Co\", \"industry\": \"cleantech\", \"stage\": \"series B\", \"funding_required\": 5000000, \"traction\": \"100,000 kWh sold\", \"business_model\": \"hardware\"},\n",
    "    {\"name\": \"FoodieHub\", \"industry\": \"foodtech\", \"stage\": \"seed\", \"funding_required\": 400000, \"traction\": \"8,000 orders/month\", \"business_model\": \"marketplace\"},\n",
    "    {\"name\": \"AI Diagnostics\", \"industry\": \"healthcare\", \"stage\": \"series A\", \"funding_required\": 2500000, \"traction\": \"40,000 tests\", \"business_model\": \"AI software\"},\n",
    "    {\"name\": \"SecureBank Tech\", \"industry\": \"fintech\", \"stage\": \"series B\", \"funding_required\": 4000000, \"traction\": \"50,000 users\", \"business_model\": \"SaaS\"},\n",
    "    {\"name\": \"SmartClassroom\", \"industry\": \"edtech\", \"stage\": \"pre-seed\", \"funding_required\": 150000, \"traction\": \"5,000 students\", \"business_model\": \"subscription\"},\n",
    "    {\"name\": \"EcoPack Solutions\", \"industry\": \"cleantech\", \"stage\": \"seed\", \"funding_required\": 800000, \"traction\": \"10,000 units sold\", \"business_model\": \"hardware\"}\n",
    "]\n",
    "\n",
    "investors = [\n",
    "    {\"name\": \"TechVentures\", \"preferred_industry\": \"tech\", \"investment_range\": (500000, 2000000)},\n",
    "    {\"name\": \"HealthCapital\", \"preferred_industry\": \"healthcare\", \"investment_range\": (1000000, 6000000)},\n",
    "    {\"name\": \"FinFuture Fund\", \"preferred_industry\": \"fintech\", \"investment_range\": (100000, 3000000)},\n",
    "    {\"name\": \"EduInvest Partners\", \"preferred_industry\": \"edtech\", \"investment_range\": (200000, 1000000)},\n",
    "    {\"name\": \"GreenGrowth VC\", \"preferred_industry\": \"cleantech\", \"investment_range\": (500000, 7000000)},\n",
    "    {\"name\": \"Foodie Fund\", \"preferred_industry\": \"foodtech\", \"investment_range\": (300000, 1500000)},\n",
    "    {\"name\": \"SeedSprout Angels\", \"preferred_industry\": \"tech\", \"investment_range\": (100000, 800000)},\n",
    "    {\"name\": \"MedTech Innovators\", \"preferred_industry\": \"healthcare\", \"investment_range\": (2000000, 5000000)},\n",
    "    {\"name\": \"FinSecure Capital\", \"preferred_industry\": \"fintech\", \"investment_range\": (500000, 4000000)},\n",
    "    {\"name\": \"CleanTech Pioneers\", \"preferred_industry\": \"cleantech\", \"investment_range\": (1000000, 8000000)}\n",
    "]"
   ]
  },
  {
   "cell_type": "code",
   "execution_count": 73,
   "metadata": {},
   "outputs": [],
   "source": [
    "# Mock Gemini API embedding function (replace with real API call in practice)\n",
    "def get_embedding(text):\n",
    "    \"\"\"\n",
    "    Simulates Gemini API embedding generation.\n",
    "    \"\"\"\n",
    "    return np.random.rand(128)  # Mock embedding with 128 dimensions"
   ]
  },
  {
   "cell_type": "code",
   "execution_count": 74,
   "metadata": {},
   "outputs": [],
   "source": [
    "# Cosine similarity for match score\n",
    "def cosine_similarity(vec1, vec2):\n",
    "    return np.dot(vec1, vec2) / (np.linalg.norm(vec1) * np.linalg.norm(vec2))"
   ]
  },
  {
   "cell_type": "code",
   "execution_count": 75,
   "metadata": {},
   "outputs": [],
   "source": [
    "# Convert structured data to text for embedding\n",
    "def founder_to_text(founder):\n",
    "    return (f\"Startup {founder['name']} in the {founder['industry']} industry, \"\n",
    "            f\"at {founder['stage']} stage, requiring ${founder['funding_required']} funding, \"\n",
    "            f\"with {founder['traction']} traction, and a {founder['business_model']} business model.\")"
   ]
  },
  {
   "cell_type": "code",
   "execution_count": 76,
   "metadata": {},
   "outputs": [],
   "source": [
    "def investor_to_text(investor):\n",
    "    return (f\"Investor {investor['name']} preferring {investor['preferred_industry']} industry, \"\n",
    "            f\"with an investment range of ${investor['investment_range'][0]} to ${investor['investment_range'][1]}.\")"
   ]
  },
  {
   "cell_type": "code",
   "execution_count": 77,
   "metadata": {},
   "outputs": [],
   "source": [
    "# Compute match scores with rule-based filtering and similarity\n",
    "def compute_match_scores(founder, investors):\n",
    "    founder_text = founder_to_text(founder)\n",
    "    founder_embedding = get_embedding(founder_text)\n",
    "    scores = []\n",
    "\n",
    "    for investor in investors:\n",
    "        # Rule-based filtering\n",
    "        if founder['industry'] != investor['preferred_industry']:\n",
    "            score = 0.0\n",
    "        elif not (investor['investment_range'][0] <= founder['funding_required'] <= investor['investment_range'][1]):\n",
    "            score = 0.0\n",
    "        else:\n",
    "            investor_text = investor_to_text(investor)\n",
    "            investor_embedding = get_embedding(investor_text)\n",
    "            score = cosine_similarity(founder_embedding, investor_embedding)\n",
    "        scores.append((investor['name'], score))\n",
    "    \n",
    "    # Sort by score in descending order\n",
    "    scores.sort(key=lambda x: x[1], reverse=True)\n",
    "    return scores"
   ]
  },
  {
   "cell_type": "code",
   "execution_count": 78,
   "metadata": {},
   "outputs": [
    {
     "name": "stdout",
     "output_type": "stream",
     "text": [
      "Founder-Investor Matching Results\n",
      "==================================================\n",
      "\n",
      "Matches for TechTrend Innovations:\n",
      "Investor                  Match Score\n",
      "-----------------------------------\n",
      "TechVentures              0.7855\n",
      "SeedSprout Angels         0.7669\n",
      "\n",
      "Matches for HealthSync Solutions:\n",
      "Investor                  Match Score\n",
      "-----------------------------------\n",
      "HealthCapital             0.7393\n",
      "MedTech Innovators        0.7365\n",
      "\n",
      "Matches for PaySwift Fintech:\n",
      "Investor                  Match Score\n",
      "-----------------------------------\n",
      "FinFuture Fund            0.7270\n",
      "\n",
      "Matches for EduLearn Platform:\n",
      "Investor                  Match Score\n",
      "-----------------------------------\n",
      "EduInvest Partners        0.7691\n",
      "\n",
      "Matches for GreenEnergy Co:\n",
      "Investor                  Match Score\n",
      "-----------------------------------\n",
      "CleanTech Pioneers        0.7954\n",
      "GreenGrowth VC            0.7326\n",
      "\n",
      "Matches for FoodieHub:\n",
      "Investor                  Match Score\n",
      "-----------------------------------\n",
      "Foodie Fund               0.7339\n",
      "\n",
      "Matches for AI Diagnostics:\n",
      "Investor                  Match Score\n",
      "-----------------------------------\n",
      "HealthCapital             0.7436\n",
      "MedTech Innovators        0.7218\n",
      "\n",
      "Matches for SecureBank Tech:\n",
      "Investor                  Match Score\n",
      "-----------------------------------\n",
      "FinSecure Capital         0.7557\n",
      "\n",
      "Matches for SmartClassroom:\n",
      "Investor                  Match Score\n",
      "-----------------------------------\n",
      "\n",
      "Matches for EcoPack Solutions:\n",
      "Investor                  Match Score\n",
      "-----------------------------------\n",
      "GreenGrowth VC            0.7540\n"
     ]
    }
   ],
   "source": [
    "# Display results\n",
    "print(\"Founder-Investor Matching Results\")\n",
    "print(\"=\" * 50)\n",
    "for founder in founders:\n",
    "    print(f\"\\nMatches for {founder['name']}:\")\n",
    "    matches = compute_match_scores(founder, investors)\n",
    "    print(f\"{'Investor':<25} {'Match Score':<10}\")\n",
    "    print(\"-\" * 35)\n",
    "    for investor_name, score in matches:\n",
    "        if score > 0:  # Only show non-zero scores for clarity\n",
    "            print(f\"{investor_name:<25} {score:.4f}\")"
   ]
  },
  {
   "cell_type": "code",
   "execution_count": null,
   "metadata": {},
   "outputs": [],
   "source": []
  },
  {
   "cell_type": "code",
   "execution_count": null,
   "metadata": {},
   "outputs": [],
   "source": []
  },
  {
   "cell_type": "code",
   "execution_count": null,
   "metadata": {},
   "outputs": [],
   "source": []
  }
 ],
 "metadata": {
  "kernelspec": {
   "display_name": "Python 3",
   "language": "python",
   "name": "python3"
  },
  "language_info": {
   "codemirror_mode": {
    "name": "ipython",
    "version": 3
   },
   "file_extension": ".py",
   "mimetype": "text/x-python",
   "name": "python",
   "nbconvert_exporter": "python",
   "pygments_lexer": "ipython3",
   "version": "3.13.2"
  },
  "orig_nbformat": 4
 },
 "nbformat": 4,
 "nbformat_minor": 2
}
